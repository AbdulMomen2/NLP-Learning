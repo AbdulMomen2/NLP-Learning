{
 "cells": [
  {
   "cell_type": "code",
   "execution_count": 1,
   "id": "73bb18fe-3bea-4f09-8242-e2ee9be979f1",
   "metadata": {},
   "outputs": [],
   "source": [
    "import spacy\n",
    "nlp = spacy.load(\"en_core_web_sm\")"
   ]
  },
  {
   "cell_type": "code",
   "execution_count": 3,
   "id": "fa486b48-0b42-4cac-91f5-c2ea3b3aea5c",
   "metadata": {},
   "outputs": [],
   "source": [
    "import pandas as pd\n",
    "df = pd.read_json('news_dataset.json')"
   ]
  },
  {
   "cell_type": "code",
   "execution_count": 5,
   "id": "c538487a-1959-494e-a7e0-0e77f41ddeea",
   "metadata": {},
   "outputs": [
    {
     "name": "stdout",
     "output_type": "stream",
     "text": [
      "(12695, 2)\n"
     ]
    },
    {
     "data": {
      "text/html": [
       "<div>\n",
       "<style scoped>\n",
       "    .dataframe tbody tr th:only-of-type {\n",
       "        vertical-align: middle;\n",
       "    }\n",
       "\n",
       "    .dataframe tbody tr th {\n",
       "        vertical-align: top;\n",
       "    }\n",
       "\n",
       "    .dataframe thead th {\n",
       "        text-align: right;\n",
       "    }\n",
       "</style>\n",
       "<table border=\"1\" class=\"dataframe\">\n",
       "  <thead>\n",
       "    <tr style=\"text-align: right;\">\n",
       "      <th></th>\n",
       "      <th>text</th>\n",
       "      <th>category</th>\n",
       "    </tr>\n",
       "  </thead>\n",
       "  <tbody>\n",
       "    <tr>\n",
       "      <th>0</th>\n",
       "      <td>Watching Schrödinger's Cat Die University of C...</td>\n",
       "      <td>SCIENCE</td>\n",
       "    </tr>\n",
       "    <tr>\n",
       "      <th>1</th>\n",
       "      <td>WATCH: Freaky Vortex Opens Up In Flooded Lake</td>\n",
       "      <td>SCIENCE</td>\n",
       "    </tr>\n",
       "    <tr>\n",
       "      <th>2</th>\n",
       "      <td>Entrepreneurs Today Don't Need a Big Budget to...</td>\n",
       "      <td>BUSINESS</td>\n",
       "    </tr>\n",
       "    <tr>\n",
       "      <th>3</th>\n",
       "      <td>These Roads Could Recharge Your Electric Car A...</td>\n",
       "      <td>BUSINESS</td>\n",
       "    </tr>\n",
       "    <tr>\n",
       "      <th>4</th>\n",
       "      <td>Civilian 'Guard' Fires Gun While 'Protecting' ...</td>\n",
       "      <td>CRIME</td>\n",
       "    </tr>\n",
       "  </tbody>\n",
       "</table>\n",
       "</div>"
      ],
      "text/plain": [
       "                                                text  category\n",
       "0  Watching Schrödinger's Cat Die University of C...   SCIENCE\n",
       "1     WATCH: Freaky Vortex Opens Up In Flooded Lake    SCIENCE\n",
       "2  Entrepreneurs Today Don't Need a Big Budget to...  BUSINESS\n",
       "3  These Roads Could Recharge Your Electric Car A...  BUSINESS\n",
       "4  Civilian 'Guard' Fires Gun While 'Protecting' ...     CRIME"
      ]
     },
     "execution_count": 5,
     "metadata": {},
     "output_type": "execute_result"
    }
   ],
   "source": [
    "print(df.shape)\n",
    "df.head()"
   ]
  },
  {
   "cell_type": "code",
   "execution_count": 13,
   "id": "67134e8f-869b-49ff-abff-55b3bdc256bd",
   "metadata": {},
   "outputs": [
    {
     "data": {
      "text/plain": [
       "category\n",
       "BUSINESS    4254\n",
       "SPORTS      4167\n",
       "CRIME       2893\n",
       "SCIENCE     1381\n",
       "Name: count, dtype: int64"
      ]
     },
     "execution_count": 13,
     "metadata": {},
     "output_type": "execute_result"
    }
   ],
   "source": [
    "df.category.value_counts()"
   ]
  },
  {
   "cell_type": "markdown",
   "id": "e92311bb-d409-4087-864e-cb5ef676fb5d",
   "metadata": {},
   "source": [
    "## Random Over Sampling , SMOTE"
   ]
  },
  {
   "cell_type": "code",
   "execution_count": null,
   "id": "01374c35-5de7-40e6-a08e-cc92e1e93e0c",
   "metadata": {},
   "outputs": [],
   "source": []
  },
  {
   "cell_type": "code",
   "execution_count": 14,
   "id": "bfc99589-7bba-4858-ad81-16b66e9135c5",
   "metadata": {},
   "outputs": [],
   "source": [
    "def preprocess(text):\n",
    "    doc = nlp(text)\n",
    "    filtered_tokens= []\n",
    "    for token in doc:\n",
    "        if token.is_stop or token.is_punct:\n",
    "            continue\n",
    "        filtered_tokens.append(token.lemma_)\n",
    "    return\" \".join(filtered_tokens)\n",
    "        "
   ]
  },
  {
   "cell_type": "code",
   "execution_count": 15,
   "id": "ac83f5ea-af34-456c-b78d-68c6ff4d5011",
   "metadata": {},
   "outputs": [
    {
     "data": {
      "text/plain": [
       "'fake news refer misinformation disinformation country spread word mouth recently digital communication app message social medium post etc'"
      ]
     },
     "execution_count": 15,
     "metadata": {},
     "output_type": "execute_result"
    }
   ],
   "source": [
    "preprocess(\"Fake news refers to misinformation or disinformation in the country which is spread through word of mouth and more recently through digital communication such as What's app messages, social media posts, etc.\")"
   ]
  },
  {
   "cell_type": "code",
   "execution_count": 22,
   "id": "cc749810-9f38-44c9-a2ff-59045d912099",
   "metadata": {},
   "outputs": [
    {
     "data": {
      "text/plain": [
       "array(['SCIENCE', 'BUSINESS', 'CRIME', 'SPORTS'], dtype=object)"
      ]
     },
     "execution_count": 22,
     "metadata": {},
     "output_type": "execute_result"
    }
   ],
   "source": [
    "categories = df['category'].unique()\n",
    "categories"
   ]
  },
  {
   "cell_type": "code",
   "execution_count": 24,
   "id": "1a991daf-eea9-48dd-ad62-e12b6553041c",
   "metadata": {},
   "outputs": [],
   "source": [
    "min_samples = 1381\n",
    "sampled_dfs=[]\n",
    "for category in categories:\n",
    "    sampled_dfs.append(df[df.category == category].sample(min_samples, random_state=2022))\n",
    "\n",
    "# Concatenate all sampled DataFrames\n",
    "df_balanced = pd.concat(sampled_dfs)"
   ]
  },
  {
   "cell_type": "code",
   "execution_count": 26,
   "id": "52a9c881-b2e8-44ba-93f9-2b342f6c3105",
   "metadata": {},
   "outputs": [
    {
     "data": {
      "text/plain": [
       "category\n",
       "SCIENCE     1381\n",
       "BUSINESS    1381\n",
       "CRIME       1381\n",
       "SPORTS      1381\n",
       "Name: count, dtype: int64"
      ]
     },
     "execution_count": 26,
     "metadata": {},
     "output_type": "execute_result"
    }
   ],
   "source": [
    "df_balanced.category.value_counts()"
   ]
  },
  {
   "cell_type": "code",
   "execution_count": 54,
   "id": "6b662c3d-9870-4ef1-9431-753794888f6b",
   "metadata": {},
   "outputs": [],
   "source": [
    "df_balanced[\"text_new\"] = df.text.apply(preprocess)"
   ]
  },
  {
   "cell_type": "code",
   "execution_count": 55,
   "id": "481fb1cd-fc5e-43ac-8172-ec8c9fe873bc",
   "metadata": {},
   "outputs": [
    {
     "data": {
      "text/html": [
       "<div>\n",
       "<style scoped>\n",
       "    .dataframe tbody tr th:only-of-type {\n",
       "        vertical-align: middle;\n",
       "    }\n",
       "\n",
       "    .dataframe tbody tr th {\n",
       "        vertical-align: top;\n",
       "    }\n",
       "\n",
       "    .dataframe thead th {\n",
       "        text-align: right;\n",
       "    }\n",
       "</style>\n",
       "<table border=\"1\" class=\"dataframe\">\n",
       "  <thead>\n",
       "    <tr style=\"text-align: right;\">\n",
       "      <th></th>\n",
       "      <th>text</th>\n",
       "      <th>category</th>\n",
       "      <th>category_num</th>\n",
       "      <th>text_new</th>\n",
       "    </tr>\n",
       "  </thead>\n",
       "  <tbody>\n",
       "    <tr>\n",
       "      <th>7210</th>\n",
       "      <td>It's Time We Take A Look At How Female Astrono...</td>\n",
       "      <td>SCIENCE</td>\n",
       "      <td>0</td>\n",
       "      <td>Time look female astronomer treat Hidden figur...</td>\n",
       "    </tr>\n",
       "    <tr>\n",
       "      <th>12292</th>\n",
       "      <td>Scientists Reveal The Secret Key To Charisma I...</td>\n",
       "      <td>SCIENCE</td>\n",
       "      <td>0</td>\n",
       "      <td>scientist reveal secret Key Charisma think foo...</td>\n",
       "    </tr>\n",
       "    <tr>\n",
       "      <th>6249</th>\n",
       "      <td>Watch One Of The World's Largest Lakes Shrink ...</td>\n",
       "      <td>SCIENCE</td>\n",
       "      <td>0</td>\n",
       "      <td>watch World Largest Lakes Shrink eye go go nea...</td>\n",
       "    </tr>\n",
       "    <tr>\n",
       "      <th>379</th>\n",
       "      <td>'Falling Fruit' Map Helps Foragers Find Their ...</td>\n",
       "      <td>SCIENCE</td>\n",
       "      <td>0</td>\n",
       "      <td>fall fruit Map help forager find Free Meal say...</td>\n",
       "    </tr>\n",
       "    <tr>\n",
       "      <th>12505</th>\n",
       "      <td>When Science Fiction Gets Real Many science fi...</td>\n",
       "      <td>SCIENCE</td>\n",
       "      <td>0</td>\n",
       "      <td>Science Fiction get real science fiction write...</td>\n",
       "    </tr>\n",
       "  </tbody>\n",
       "</table>\n",
       "</div>"
      ],
      "text/plain": [
       "                                                    text category  \\\n",
       "7210   It's Time We Take A Look At How Female Astrono...  SCIENCE   \n",
       "12292  Scientists Reveal The Secret Key To Charisma I...  SCIENCE   \n",
       "6249   Watch One Of The World's Largest Lakes Shrink ...  SCIENCE   \n",
       "379    'Falling Fruit' Map Helps Foragers Find Their ...  SCIENCE   \n",
       "12505  When Science Fiction Gets Real Many science fi...  SCIENCE   \n",
       "\n",
       "       category_num                                           text_new  \n",
       "7210              0  Time look female astronomer treat Hidden figur...  \n",
       "12292             0  scientist reveal secret Key Charisma think foo...  \n",
       "6249              0  watch World Largest Lakes Shrink eye go go nea...  \n",
       "379               0  fall fruit Map help forager find Free Meal say...  \n",
       "12505             0  Science Fiction get real science fiction write...  "
      ]
     },
     "execution_count": 55,
     "metadata": {},
     "output_type": "execute_result"
    }
   ],
   "source": [
    "target = {'SCIENCE': 0, 'BUSINESS': 1, 'CRIME':2,'SPORTS':3}\n",
    "df_balanced['category_num'] = df_balanced['category'].map(target)\n",
    "df_balanced.head()"
   ]
  },
  {
   "cell_type": "code",
   "execution_count": 43,
   "id": "ac9595d5-9252-4d71-a3cc-16f0edc024e5",
   "metadata": {},
   "outputs": [
    {
     "data": {
      "text/plain": [
       "category_num\n",
       "0    1381\n",
       "1    1381\n",
       "2    1381\n",
       "3    1381\n",
       "Name: count, dtype: int64"
      ]
     },
     "execution_count": 43,
     "metadata": {},
     "output_type": "execute_result"
    }
   ],
   "source": [
    "df_balanced.category_num.value_counts()"
   ]
  },
  {
   "cell_type": "code",
   "execution_count": 56,
   "id": "aee0605d-b805-4e97-b81d-7e8f6eb1a3c7",
   "metadata": {},
   "outputs": [],
   "source": [
    "from sklearn.model_selection import train_test_split\n",
    "X_train,X_test,y_train,y_test = train_test_split(\n",
    "    df_balanced.text_new,\n",
    "    df_balanced.category_num,\n",
    "    test_size=0.2, \n",
    "    random_state=2022,\n",
    "    stratify=df_balanced.category_num   \n",
    ")"
   ]
  },
  {
   "cell_type": "code",
   "execution_count": 58,
   "id": "de1641d0-6259-42d0-9395-9c62841722c1",
   "metadata": {},
   "outputs": [
    {
     "name": "stdout",
     "output_type": "stream",
     "text": [
      "(4419,)\n"
     ]
    },
    {
     "data": {
      "text/plain": [
       "4769       Bully Poker Pro 27.8 million Chips Pot abusive\n",
       "5724    Long National Deflategate Nightmare Vengeance ...\n",
       "1923    man care Diversity Boardroom boy boy club ok s...\n",
       "1733    Beloved Bipedal Bear name Pedals believe kill ...\n",
       "2526      Elizabeth Smart give Birth Baby Girl Father say\n",
       "Name: text_new, dtype: object"
      ]
     },
     "execution_count": 58,
     "metadata": {},
     "output_type": "execute_result"
    }
   ],
   "source": [
    "print(X_train.shape)\n",
    "X_train.head()"
   ]
  },
  {
   "cell_type": "code",
   "execution_count": 63,
   "id": "e876a82a-fc5e-446e-b433-2f5e3eb3b403",
   "metadata": {},
   "outputs": [
    {
     "name": "stdout",
     "output_type": "stream",
     "text": [
      "              precision    recall  f1-score   support\n",
      "\n",
      "           0       0.90      0.84      0.87       276\n",
      "           1       0.84      0.86      0.85       277\n",
      "           2       0.85      0.92      0.88       276\n",
      "           3       0.92      0.88      0.90       276\n",
      "\n",
      "    accuracy                           0.87      1105\n",
      "   macro avg       0.87      0.87      0.87      1105\n",
      "weighted avg       0.87      0.87      0.87      1105\n",
      "\n"
     ]
    }
   ],
   "source": [
    "from sklearn.naive_bayes import MultinomialNB\n",
    "from sklearn.pipeline import Pipeline\n",
    "from sklearn.metrics import classification_report\n",
    "from sklearn.feature_extraction.text import CountVectorizer\n",
    "\n",
    "\n",
    "clf= Pipeline([\n",
    "    ('vectorizer_bow', CountVectorizer(ngram_range = (1, 1))),        #using the ngram_range parameter \n",
    "    ('Multi NB', MultinomialNB())\n",
    "])\n",
    "\n",
    "clf.fit(X_train,y_train)\n",
    "y_pred = clf.predict(X_test)\n",
    "\n",
    "print(classification_report(y_test,y_pred))"
   ]
  },
  {
   "cell_type": "code",
   "execution_count": 64,
   "id": "ad1c2815-018c-4077-8f6e-718b86fffb40",
   "metadata": {},
   "outputs": [
    {
     "name": "stdout",
     "output_type": "stream",
     "text": [
      "              precision    recall  f1-score   support\n",
      "\n",
      "           0       0.90      0.82      0.86       276\n",
      "           1       0.84      0.88      0.86       277\n",
      "           2       0.86      0.92      0.89       276\n",
      "           3       0.93      0.89      0.91       276\n",
      "\n",
      "    accuracy                           0.88      1105\n",
      "   macro avg       0.88      0.88      0.88      1105\n",
      "weighted avg       0.88      0.88      0.88      1105\n",
      "\n"
     ]
    }
   ],
   "source": [
    "clf= Pipeline([\n",
    "    ('vectorizer_bow', CountVectorizer(ngram_range = (1, 2))),        #using the 2 gram_range parameter \n",
    "    ('Multi NB', MultinomialNB())\n",
    "])\n",
    "\n",
    "clf.fit(X_train,y_train)\n",
    "y_pred = clf.predict(X_test)\n",
    "\n",
    "print(classification_report(y_test,y_pred))"
   ]
  },
  {
   "cell_type": "code",
   "execution_count": 65,
   "id": "c1366b15-0156-4163-86c4-51e93a148b44",
   "metadata": {},
   "outputs": [
    {
     "name": "stdout",
     "output_type": "stream",
     "text": [
      "              precision    recall  f1-score   support\n",
      "\n",
      "           0       0.91      0.82      0.86       276\n",
      "           1       0.84      0.89      0.86       277\n",
      "           2       0.86      0.92      0.89       276\n",
      "           3       0.93      0.89      0.91       276\n",
      "\n",
      "    accuracy                           0.88      1105\n",
      "   macro avg       0.88      0.88      0.88      1105\n",
      "weighted avg       0.88      0.88      0.88      1105\n",
      "\n"
     ]
    }
   ],
   "source": [
    "clf= Pipeline([\n",
    "    ('vectorizer_bow', CountVectorizer(ngram_range = (1, 3))),        #using the 3 gram_range parameter \n",
    "    ('Multi NB', MultinomialNB())\n",
    "])\n",
    "\n",
    "clf.fit(X_train,y_train)\n",
    "y_pred = clf.predict(X_test)\n",
    "\n",
    "print(classification_report(y_test,y_pred))"
   ]
  },
  {
   "cell_type": "markdown",
   "id": "2a55b42a-3e88-4ebf-a825-b2516dd8b7e2",
   "metadata": {},
   "source": [
    "## Random Forest"
   ]
  },
  {
   "cell_type": "code",
   "execution_count": 79,
   "id": "bf820ce9-caa1-4af5-80f5-44db11501037",
   "metadata": {},
   "outputs": [],
   "source": [
    "from sklearn.ensemble import RandomForestClassifier\n",
    "clf_rf = Pipeline([\n",
    "    ('vectorizer_bow', CountVectorizer(ngram_range =(1,3))),\n",
    "    ('Random_Forest',RandomForestClassifier())\n",
    "])"
   ]
  },
  {
   "cell_type": "code",
   "execution_count": 80,
   "id": "7df9e816-f02b-4654-a883-810b789e7cfd",
   "metadata": {},
   "outputs": [
    {
     "name": "stdout",
     "output_type": "stream",
     "text": [
      "              precision    recall  f1-score   support\n",
      "\n",
      "           0       0.77      0.79      0.78       276\n",
      "           1       0.69      0.83      0.76       277\n",
      "           2       0.83      0.86      0.84       276\n",
      "           3       0.93      0.68      0.79       276\n",
      "\n",
      "    accuracy                           0.79      1105\n",
      "   macro avg       0.80      0.79      0.79      1105\n",
      "weighted avg       0.80      0.79      0.79      1105\n",
      "\n"
     ]
    }
   ],
   "source": [
    "clf_rf.fit(X_train,y_train)\n",
    "y_pred = clf_rf.predict(X_test)\n",
    "\n",
    "print(classification_report(y_test,y_pred))"
   ]
  },
  {
   "cell_type": "markdown",
   "id": "5d1dc4c7-3a43-42ac-a2ce-5606590ce5e4",
   "metadata": {},
   "source": [
    "## over sampling"
   ]
  },
  {
   "cell_type": "code",
   "execution_count": 93,
   "id": "10c6d334-00ad-424f-85b4-8b41b9e44aa8",
   "metadata": {},
   "outputs": [
    {
     "name": "stdout",
     "output_type": "stream",
     "text": [
      "0\n"
     ]
    }
   ],
   "source": [
    "\n",
    "business_count = df[df['category'] == 'BUSINESS'].shape[0]\n",
    "\n",
    "print(science_count)"
   ]
  },
  {
   "cell_type": "code",
   "execution_count": null,
   "id": "fbce4243-4e65-400f-9251-30feb3a1dc3a",
   "metadata": {},
   "outputs": [],
   "source": []
  },
  {
   "cell_type": "markdown",
   "id": "6d7a95cf-14fe-4d75-82bd-39d67e58d5d0",
   "metadata": {},
   "source": [
    "## GitHub , MlFlow"
   ]
  },
  {
   "cell_type": "code",
   "execution_count": 92,
   "id": "94f4aef0-d5db-40d6-aa15-68d6cffe6327",
   "metadata": {},
   "outputs": [
    {
     "data": {
      "text/plain": [
       "category\n",
       "BUSINESS    4254\n",
       "SPORTS      4167\n",
       "CRIME       2893\n",
       "SCIENCE     1381\n",
       "Name: count, dtype: int64"
      ]
     },
     "execution_count": 92,
     "metadata": {},
     "output_type": "execute_result"
    }
   ],
   "source": [
    "df.category.value_counts()"
   ]
  },
  {
   "cell_type": "code",
   "execution_count": 98,
   "id": "b9bfefeb-bd1c-4f13-8f18-2491644581eb",
   "metadata": {},
   "outputs": [
    {
     "name": "stdout",
     "output_type": "stream",
     "text": [
      "(4254, 3)\n"
     ]
    }
   ],
   "source": [
    "# Get the count of the BUSINESS category\n",
    "business_count = df[df['category'] == 'BUSINESS'].shape[0]\n",
    "\n",
    "# Oversample the SCIENCE category to match the BUSINESS category count\n",
    "df_science_over_sm = df[df['category'] == 'SCIENCE'].sample(business_count, replace=True)\n",
    "\n",
    "# Print the resulting oversampled dataframe\n",
    "print(df_science_over_sm.shape)\n"
   ]
  },
  {
   "cell_type": "code",
   "execution_count": null,
   "id": "28b592b4-8b1d-4115-b7d2-9207c862bdc5",
   "metadata": {},
   "outputs": [],
   "source": [
    "df_science_over_sm"
   ]
  }
 ],
 "metadata": {
  "kernelspec": {
   "display_name": "Python 3 (ipykernel)",
   "language": "python",
   "name": "python3"
  },
  "language_info": {
   "codemirror_mode": {
    "name": "ipython",
    "version": 3
   },
   "file_extension": ".py",
   "mimetype": "text/x-python",
   "name": "python",
   "nbconvert_exporter": "python",
   "pygments_lexer": "ipython3",
   "version": "3.11.9"
  }
 },
 "nbformat": 4,
 "nbformat_minor": 5
}
